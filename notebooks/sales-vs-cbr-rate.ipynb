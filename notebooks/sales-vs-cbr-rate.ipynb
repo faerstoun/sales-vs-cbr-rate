{
 "cells": [
  {
   "cell_type": "code",
   "execution_count": 1,
   "id": "c4af31b5-3a83-48dd-a100-a906eebe6cf5",
   "metadata": {},
   "outputs": [],
   "source": [
    "import requests\n",
    "import pandas as pd\n",
    "from io import StringIO\n",
    "import seaborn as sns\n",
    "import matplotlib.pyplot as plt"
   ]
  },
  {
   "cell_type": "code",
   "execution_count": 2,
   "id": "98622317-518d-474a-bce3-768cde76ca2b",
   "metadata": {},
   "outputs": [],
   "source": [
    "# Выгружаем наши данные для задания, таблицу с продажами по месяцам (df_sales)\n",
    "\n",
    "dates = pd.date_range(start='2024-01-01', end='2024-12-01', freq='MS').strftime('%Y-%m-%d')\n",
    "\n",
    "df_sales = pd.DataFrame({\n",
    "    'date': dates,\n",
    "    'sales': [5350, 5450, 5500, 4500, 4400, 3900, 3800, 4000, 4500, 4900, 5000, 5500]\n",
    "})"
   ]
  },
  {
   "cell_type": "code",
   "execution_count": 3,
   "id": "29425f15-47a6-4c9a-8654-f606917f59e4",
   "metadata": {},
   "outputs": [],
   "source": [
    "# Сразу приведём дату в datetime\n",
    "\n",
    "df_sales.date = pd.to_datetime(df_sales.date)"
   ]
  },
  {
   "cell_type": "code",
   "execution_count": 4,
   "id": "ddebcd30-4d61-4a71-b667-4c222a4606f0",
   "metadata": {},
   "outputs": [],
   "source": [
    "# Напишем интервал начала и конца\n",
    "# Сделаем формат отображения как на сайте ЦБ РФ\n",
    "\n",
    "start_date = df_sales['date'].min().strftime('%d.%m.%Y')\n",
    "end_date = (df_sales['date'].max() + pd.offsets.MonthEnd(0)).strftime('%d.%m.%Y')"
   ]
  },
  {
   "cell_type": "code",
   "execution_count": 5,
   "id": "1c99fc59-b1eb-4fca-b62f-2547fce15428",
   "metadata": {},
   "outputs": [],
   "source": [
    "# Задаём ссылку и параметры запроса\n",
    "\n",
    "url = \"https://www.cbr.ru/hd_base/keyrate/\"\n",
    "data = {\n",
    "    \"UniDbQuery.Posted\": \"True\",\n",
    "    \"UniDbQuery.From\": start_date,\n",
    "    \"UniDbQuery.To\": end_date\n",
    "}"
   ]
  },
  {
   "cell_type": "code",
   "execution_count": 6,
   "id": "17fbd608-c5d8-4576-82e2-42b19ed01dd8",
   "metadata": {},
   "outputs": [],
   "source": [
    "# Отправляем POST запрос на наш сайт\n",
    "# Получает HTML-страницу с таблицей ставок за нужный период\n",
    "# Ставим параметр кодировки 'utf-8' чтобы корректно читались русские буквы\n",
    "\n",
    "response = requests.post(url, data=data)\n",
    "response.encoding = 'utf-8'"
   ]
  },
  {
   "cell_type": "code",
   "execution_count": 7,
   "id": "8de2fa1c-1815-49e7-a8da-65dbb6fa4756",
   "metadata": {},
   "outputs": [],
   "source": [
    "# Оборачиваем текст в StringIO так как pandas выдал нам предупреждение\n",
    "# о том что передача литерального html в 'read_html' устарела и будет удалена в будущей версии\n",
    "\n",
    "html = StringIO(response.text)\n",
    "df_rate = pd.read_html(html)[0]"
   ]
  },
  {
   "cell_type": "code",
   "execution_count": 8,
   "id": "aa48b896-a57c-42dc-b968-b40cf10b9420",
   "metadata": {},
   "outputs": [
    {
     "data": {
      "text/html": [
       "<div>\n",
       "<style scoped>\n",
       "    .dataframe tbody tr th:only-of-type {\n",
       "        vertical-align: middle;\n",
       "    }\n",
       "\n",
       "    .dataframe tbody tr th {\n",
       "        vertical-align: top;\n",
       "    }\n",
       "\n",
       "    .dataframe thead th {\n",
       "        text-align: right;\n",
       "    }\n",
       "</style>\n",
       "<table border=\"1\" class=\"dataframe\">\n",
       "  <thead>\n",
       "    <tr style=\"text-align: right;\">\n",
       "      <th></th>\n",
       "      <th>Дата</th>\n",
       "      <th>Ставка</th>\n",
       "    </tr>\n",
       "  </thead>\n",
       "  <tbody>\n",
       "    <tr>\n",
       "      <th>0</th>\n",
       "      <td>30.12.2024</td>\n",
       "      <td>2100</td>\n",
       "    </tr>\n",
       "    <tr>\n",
       "      <th>1</th>\n",
       "      <td>28.12.2024</td>\n",
       "      <td>2100</td>\n",
       "    </tr>\n",
       "    <tr>\n",
       "      <th>2</th>\n",
       "      <td>27.12.2024</td>\n",
       "      <td>2100</td>\n",
       "    </tr>\n",
       "    <tr>\n",
       "      <th>3</th>\n",
       "      <td>26.12.2024</td>\n",
       "      <td>2100</td>\n",
       "    </tr>\n",
       "    <tr>\n",
       "      <th>4</th>\n",
       "      <td>25.12.2024</td>\n",
       "      <td>2100</td>\n",
       "    </tr>\n",
       "    <tr>\n",
       "      <th>...</th>\n",
       "      <td>...</td>\n",
       "      <td>...</td>\n",
       "    </tr>\n",
       "    <tr>\n",
       "      <th>251</th>\n",
       "      <td>09.01.2024</td>\n",
       "      <td>1600</td>\n",
       "    </tr>\n",
       "    <tr>\n",
       "      <th>252</th>\n",
       "      <td>08.01.2024</td>\n",
       "      <td>1600</td>\n",
       "    </tr>\n",
       "    <tr>\n",
       "      <th>253</th>\n",
       "      <td>05.01.2024</td>\n",
       "      <td>1600</td>\n",
       "    </tr>\n",
       "    <tr>\n",
       "      <th>254</th>\n",
       "      <td>04.01.2024</td>\n",
       "      <td>1600</td>\n",
       "    </tr>\n",
       "    <tr>\n",
       "      <th>255</th>\n",
       "      <td>03.01.2024</td>\n",
       "      <td>1600</td>\n",
       "    </tr>\n",
       "  </tbody>\n",
       "</table>\n",
       "<p>256 rows × 2 columns</p>\n",
       "</div>"
      ],
      "text/plain": [
       "           Дата  Ставка\n",
       "0    30.12.2024    2100\n",
       "1    28.12.2024    2100\n",
       "2    27.12.2024    2100\n",
       "3    26.12.2024    2100\n",
       "4    25.12.2024    2100\n",
       "..          ...     ...\n",
       "251  09.01.2024    1600\n",
       "252  08.01.2024    1600\n",
       "253  05.01.2024    1600\n",
       "254  04.01.2024    1600\n",
       "255  03.01.2024    1600\n",
       "\n",
       "[256 rows x 2 columns]"
      ]
     },
     "execution_count": 8,
     "metadata": {},
     "output_type": "execute_result"
    }
   ],
   "source": [
    "df_rate"
   ]
  },
  {
   "cell_type": "code",
   "execution_count": 9,
   "id": "ec923b00-0ff7-44e6-befd-482c39cdcd16",
   "metadata": {},
   "outputs": [],
   "source": [
    "# Обработаем наш df. Переименуем колонки\n",
    "\n",
    "df_rate.columns = ['date', 'rate']"
   ]
  },
  {
   "cell_type": "code",
   "execution_count": 10,
   "id": "842f2d42-7d8e-4657-b288-fc08d0bc6ade",
   "metadata": {},
   "outputs": [
    {
     "data": {
      "text/plain": [
       "date    object\n",
       "rate     int64\n",
       "dtype: object"
      ]
     },
     "execution_count": 10,
     "metadata": {},
     "output_type": "execute_result"
    }
   ],
   "source": [
    "# Смотрим в каком формате данные\n",
    "\n",
    "df_rate.dtypes"
   ]
  },
  {
   "cell_type": "code",
   "execution_count": 11,
   "id": "40cd3fd0-63dd-49b1-a227-f1019c04951d",
   "metadata": {},
   "outputs": [],
   "source": [
    "# Преобразуем дату в формат period(M) (%Y-%m) для группировки по месяцам\n",
    "# Добавляем параметр dayfirst=True чтобы формат даты правильно отображался в pandas\n",
    "\n",
    "df_rate['date'] = pd.to_datetime(df_rate['date'], dayfirst=True).dt.to_period('M')"
   ]
  },
  {
   "cell_type": "code",
   "execution_count": 12,
   "id": "49a7f1d5-da63-4d66-98df-cd895cf0479c",
   "metadata": {},
   "outputs": [],
   "source": [
    "# У нас ставка вывелась как число, нужно преобразовать её в проценты\n",
    "\n",
    "df_rate['rate'] = df_rate['rate'] / 100"
   ]
  },
  {
   "cell_type": "code",
   "execution_count": 13,
   "id": "2d33fe84-396c-4ba7-b99e-d1cc937eddb7",
   "metadata": {},
   "outputs": [
    {
     "data": {
      "text/html": [
       "<div>\n",
       "<style scoped>\n",
       "    .dataframe tbody tr th:only-of-type {\n",
       "        vertical-align: middle;\n",
       "    }\n",
       "\n",
       "    .dataframe tbody tr th {\n",
       "        vertical-align: top;\n",
       "    }\n",
       "\n",
       "    .dataframe thead th {\n",
       "        text-align: right;\n",
       "    }\n",
       "</style>\n",
       "<table border=\"1\" class=\"dataframe\">\n",
       "  <thead>\n",
       "    <tr style=\"text-align: right;\">\n",
       "      <th></th>\n",
       "      <th>date</th>\n",
       "      <th>rate</th>\n",
       "    </tr>\n",
       "  </thead>\n",
       "  <tbody>\n",
       "    <tr>\n",
       "      <th>0</th>\n",
       "      <td>2024-12</td>\n",
       "      <td>21.0</td>\n",
       "    </tr>\n",
       "    <tr>\n",
       "      <th>1</th>\n",
       "      <td>2024-12</td>\n",
       "      <td>21.0</td>\n",
       "    </tr>\n",
       "    <tr>\n",
       "      <th>2</th>\n",
       "      <td>2024-12</td>\n",
       "      <td>21.0</td>\n",
       "    </tr>\n",
       "    <tr>\n",
       "      <th>3</th>\n",
       "      <td>2024-12</td>\n",
       "      <td>21.0</td>\n",
       "    </tr>\n",
       "    <tr>\n",
       "      <th>4</th>\n",
       "      <td>2024-12</td>\n",
       "      <td>21.0</td>\n",
       "    </tr>\n",
       "    <tr>\n",
       "      <th>...</th>\n",
       "      <td>...</td>\n",
       "      <td>...</td>\n",
       "    </tr>\n",
       "    <tr>\n",
       "      <th>251</th>\n",
       "      <td>2024-01</td>\n",
       "      <td>16.0</td>\n",
       "    </tr>\n",
       "    <tr>\n",
       "      <th>252</th>\n",
       "      <td>2024-01</td>\n",
       "      <td>16.0</td>\n",
       "    </tr>\n",
       "    <tr>\n",
       "      <th>253</th>\n",
       "      <td>2024-01</td>\n",
       "      <td>16.0</td>\n",
       "    </tr>\n",
       "    <tr>\n",
       "      <th>254</th>\n",
       "      <td>2024-01</td>\n",
       "      <td>16.0</td>\n",
       "    </tr>\n",
       "    <tr>\n",
       "      <th>255</th>\n",
       "      <td>2024-01</td>\n",
       "      <td>16.0</td>\n",
       "    </tr>\n",
       "  </tbody>\n",
       "</table>\n",
       "<p>256 rows × 2 columns</p>\n",
       "</div>"
      ],
      "text/plain": [
       "        date  rate\n",
       "0    2024-12  21.0\n",
       "1    2024-12  21.0\n",
       "2    2024-12  21.0\n",
       "3    2024-12  21.0\n",
       "4    2024-12  21.0\n",
       "..       ...   ...\n",
       "251  2024-01  16.0\n",
       "252  2024-01  16.0\n",
       "253  2024-01  16.0\n",
       "254  2024-01  16.0\n",
       "255  2024-01  16.0\n",
       "\n",
       "[256 rows x 2 columns]"
      ]
     },
     "execution_count": 13,
     "metadata": {},
     "output_type": "execute_result"
    }
   ],
   "source": [
    "df_rate"
   ]
  },
  {
   "cell_type": "code",
   "execution_count": 14,
   "id": "ec8db445-8ca2-48ec-b21e-5a4177bfbc0d",
   "metadata": {},
   "outputs": [
    {
     "data": {
      "text/plain": [
       "date    period[M]\n",
       "rate      float64\n",
       "dtype: object"
      ]
     },
     "execution_count": 14,
     "metadata": {},
     "output_type": "execute_result"
    }
   ],
   "source": [
    "df_rate.dtypes"
   ]
  },
  {
   "cell_type": "code",
   "execution_count": 15,
   "id": "f4cacca2-c2ad-4f62-85f4-ac97becaa61f",
   "metadata": {},
   "outputs": [],
   "source": [
    "# Группируем данные по максимальной ключевой ставке за месяц\n",
    "\n",
    "df_rate = df_rate.groupby('date', as_index=False).agg({'rate': 'max'})"
   ]
  },
  {
   "cell_type": "code",
   "execution_count": 16,
   "id": "a235edc7-4b01-492b-8be8-db12cae761f2",
   "metadata": {},
   "outputs": [],
   "source": [
    "# Приведём формат даты обратно в datetime чтобы соединить две таблицы без ошибок\n",
    "\n",
    "df_rate.date = df_rate['date'].dt.to_timestamp()"
   ]
  },
  {
   "cell_type": "code",
   "execution_count": 17,
   "id": "1dddad5b-3083-4881-b333-1cea43580ead",
   "metadata": {},
   "outputs": [],
   "source": [
    "# Вернёмся к датафрейму df_sales"
   ]
  },
  {
   "cell_type": "code",
   "execution_count": 18,
   "id": "6c45cc75-fe6a-4dff-8cbb-437c3c8973b6",
   "metadata": {},
   "outputs": [
    {
     "data": {
      "text/html": [
       "<div>\n",
       "<style scoped>\n",
       "    .dataframe tbody tr th:only-of-type {\n",
       "        vertical-align: middle;\n",
       "    }\n",
       "\n",
       "    .dataframe tbody tr th {\n",
       "        vertical-align: top;\n",
       "    }\n",
       "\n",
       "    .dataframe thead th {\n",
       "        text-align: right;\n",
       "    }\n",
       "</style>\n",
       "<table border=\"1\" class=\"dataframe\">\n",
       "  <thead>\n",
       "    <tr style=\"text-align: right;\">\n",
       "      <th></th>\n",
       "      <th>date</th>\n",
       "      <th>sales</th>\n",
       "    </tr>\n",
       "  </thead>\n",
       "  <tbody>\n",
       "    <tr>\n",
       "      <th>0</th>\n",
       "      <td>2024-01-01</td>\n",
       "      <td>5350</td>\n",
       "    </tr>\n",
       "    <tr>\n",
       "      <th>1</th>\n",
       "      <td>2024-02-01</td>\n",
       "      <td>5450</td>\n",
       "    </tr>\n",
       "    <tr>\n",
       "      <th>2</th>\n",
       "      <td>2024-03-01</td>\n",
       "      <td>5500</td>\n",
       "    </tr>\n",
       "    <tr>\n",
       "      <th>3</th>\n",
       "      <td>2024-04-01</td>\n",
       "      <td>4500</td>\n",
       "    </tr>\n",
       "    <tr>\n",
       "      <th>4</th>\n",
       "      <td>2024-05-01</td>\n",
       "      <td>4400</td>\n",
       "    </tr>\n",
       "    <tr>\n",
       "      <th>5</th>\n",
       "      <td>2024-06-01</td>\n",
       "      <td>3900</td>\n",
       "    </tr>\n",
       "    <tr>\n",
       "      <th>6</th>\n",
       "      <td>2024-07-01</td>\n",
       "      <td>3800</td>\n",
       "    </tr>\n",
       "    <tr>\n",
       "      <th>7</th>\n",
       "      <td>2024-08-01</td>\n",
       "      <td>4000</td>\n",
       "    </tr>\n",
       "    <tr>\n",
       "      <th>8</th>\n",
       "      <td>2024-09-01</td>\n",
       "      <td>4500</td>\n",
       "    </tr>\n",
       "    <tr>\n",
       "      <th>9</th>\n",
       "      <td>2024-10-01</td>\n",
       "      <td>4900</td>\n",
       "    </tr>\n",
       "    <tr>\n",
       "      <th>10</th>\n",
       "      <td>2024-11-01</td>\n",
       "      <td>5000</td>\n",
       "    </tr>\n",
       "    <tr>\n",
       "      <th>11</th>\n",
       "      <td>2024-12-01</td>\n",
       "      <td>5500</td>\n",
       "    </tr>\n",
       "  </tbody>\n",
       "</table>\n",
       "</div>"
      ],
      "text/plain": [
       "         date  sales\n",
       "0  2024-01-01   5350\n",
       "1  2024-02-01   5450\n",
       "2  2024-03-01   5500\n",
       "3  2024-04-01   4500\n",
       "4  2024-05-01   4400\n",
       "5  2024-06-01   3900\n",
       "6  2024-07-01   3800\n",
       "7  2024-08-01   4000\n",
       "8  2024-09-01   4500\n",
       "9  2024-10-01   4900\n",
       "10 2024-11-01   5000\n",
       "11 2024-12-01   5500"
      ]
     },
     "execution_count": 18,
     "metadata": {},
     "output_type": "execute_result"
    }
   ],
   "source": [
    "df_sales"
   ]
  },
  {
   "cell_type": "code",
   "execution_count": 19,
   "id": "5acc2587-0d4e-41a1-b423-16c78dff67e3",
   "metadata": {},
   "outputs": [],
   "source": [
    "# Соединяем две наши таблицы\n",
    "\n",
    "df = df_sales.merge(df_rate, on='date', how='inner')"
   ]
  },
  {
   "cell_type": "code",
   "execution_count": 20,
   "id": "197e4fdc-8354-4c97-bfa7-c0f0f79c3dbe",
   "metadata": {},
   "outputs": [],
   "source": [
    "# Для удобства преобразуем даты в название месяцев\n",
    "\n",
    "df.date = df.date.dt.month_name()"
   ]
  },
  {
   "cell_type": "code",
   "execution_count": 21,
   "id": "42a89168-91aa-4d7d-8545-2ccc2f71e005",
   "metadata": {},
   "outputs": [
    {
     "data": {
      "text/html": [
       "<div>\n",
       "<style scoped>\n",
       "    .dataframe tbody tr th:only-of-type {\n",
       "        vertical-align: middle;\n",
       "    }\n",
       "\n",
       "    .dataframe tbody tr th {\n",
       "        vertical-align: top;\n",
       "    }\n",
       "\n",
       "    .dataframe thead th {\n",
       "        text-align: right;\n",
       "    }\n",
       "</style>\n",
       "<table border=\"1\" class=\"dataframe\">\n",
       "  <thead>\n",
       "    <tr style=\"text-align: right;\">\n",
       "      <th></th>\n",
       "      <th>date</th>\n",
       "      <th>sales</th>\n",
       "      <th>rate</th>\n",
       "    </tr>\n",
       "  </thead>\n",
       "  <tbody>\n",
       "    <tr>\n",
       "      <th>0</th>\n",
       "      <td>January</td>\n",
       "      <td>5350</td>\n",
       "      <td>16.0</td>\n",
       "    </tr>\n",
       "    <tr>\n",
       "      <th>1</th>\n",
       "      <td>February</td>\n",
       "      <td>5450</td>\n",
       "      <td>16.0</td>\n",
       "    </tr>\n",
       "    <tr>\n",
       "      <th>2</th>\n",
       "      <td>March</td>\n",
       "      <td>5500</td>\n",
       "      <td>16.0</td>\n",
       "    </tr>\n",
       "    <tr>\n",
       "      <th>3</th>\n",
       "      <td>April</td>\n",
       "      <td>4500</td>\n",
       "      <td>16.0</td>\n",
       "    </tr>\n",
       "    <tr>\n",
       "      <th>4</th>\n",
       "      <td>May</td>\n",
       "      <td>4400</td>\n",
       "      <td>16.0</td>\n",
       "    </tr>\n",
       "    <tr>\n",
       "      <th>5</th>\n",
       "      <td>June</td>\n",
       "      <td>3900</td>\n",
       "      <td>16.0</td>\n",
       "    </tr>\n",
       "    <tr>\n",
       "      <th>6</th>\n",
       "      <td>July</td>\n",
       "      <td>3800</td>\n",
       "      <td>18.0</td>\n",
       "    </tr>\n",
       "    <tr>\n",
       "      <th>7</th>\n",
       "      <td>August</td>\n",
       "      <td>4000</td>\n",
       "      <td>18.0</td>\n",
       "    </tr>\n",
       "    <tr>\n",
       "      <th>8</th>\n",
       "      <td>September</td>\n",
       "      <td>4500</td>\n",
       "      <td>19.0</td>\n",
       "    </tr>\n",
       "    <tr>\n",
       "      <th>9</th>\n",
       "      <td>October</td>\n",
       "      <td>4900</td>\n",
       "      <td>21.0</td>\n",
       "    </tr>\n",
       "    <tr>\n",
       "      <th>10</th>\n",
       "      <td>November</td>\n",
       "      <td>5000</td>\n",
       "      <td>21.0</td>\n",
       "    </tr>\n",
       "    <tr>\n",
       "      <th>11</th>\n",
       "      <td>December</td>\n",
       "      <td>5500</td>\n",
       "      <td>21.0</td>\n",
       "    </tr>\n",
       "  </tbody>\n",
       "</table>\n",
       "</div>"
      ],
      "text/plain": [
       "         date  sales  rate\n",
       "0     January   5350  16.0\n",
       "1    February   5450  16.0\n",
       "2       March   5500  16.0\n",
       "3       April   4500  16.0\n",
       "4         May   4400  16.0\n",
       "5        June   3900  16.0\n",
       "6        July   3800  18.0\n",
       "7      August   4000  18.0\n",
       "8   September   4500  19.0\n",
       "9     October   4900  21.0\n",
       "10   November   5000  21.0\n",
       "11   December   5500  21.0"
      ]
     },
     "execution_count": 21,
     "metadata": {},
     "output_type": "execute_result"
    }
   ],
   "source": [
    "df"
   ]
  },
  {
   "cell_type": "code",
   "execution_count": 22,
   "id": "c2aa84b0-e4c4-49fd-8aa6-0930f069eff6",
   "metadata": {},
   "outputs": [],
   "source": [
    "# Для дальнейшего анализа используем визуализацию"
   ]
  },
  {
   "cell_type": "code",
   "execution_count": 23,
   "id": "d7c2c824-ddc0-44c6-91ab-1f60e7ae52dd",
   "metadata": {},
   "outputs": [
    {
     "data": {
      "image/png": "[encoded data removed]",
      "text/plain": [
       "<Figure size 1200x600 with 2 Axes>"
      ]
     },
     "metadata": {},
     "output_type": "display_data"
    }
   ],
   "source": [
    "# Для визуального анализа тренда между объемом продаж от ставки ЦБ РФ, построим график сразу с двумя осями Y\n",
    "\n",
    "fig, ax1 = plt.subplots(figsize=(12, 6))\n",
    "\n",
    "# Ось Y1 — объем продаж\n",
    "ax1.set_xlabel('Месяц')\n",
    "ax1.set_ylabel('Объем продаж')\n",
    "ax1.plot(df['date'].astype(str), df['sales'], color='deepskyblue', marker='o')\n",
    "ax1.tick_params(axis='y')\n",
    "ax1.tick_params(axis='x', rotation=45)\n",
    "\n",
    "# Ось Y2 — ключевая ставка\n",
    "ax2 = ax1.twinx()\n",
    "ax2.set_ylabel('Ключевая ставка (%)')\n",
    "ax2.plot(df['date'].astype(str), df['rate'], color='royalblue', marker='s')\n",
    "ax2.tick_params(axis='y')\n",
    "\n",
    "plt.title('Зависимость между объемами продаж и ключевой ставкой')\n",
    "fig.tight_layout()\n",
    "plt.show()"
   ]
  },
  {
   "cell_type": "code",
   "execution_count": 24,
   "id": "4f7ddba8-9f8b-4a3f-93f5-b20e86133cf8",
   "metadata": {},
   "outputs": [],
   "source": [
    "# До июля ключевая ставка остаётся низкой, продажи постепенно снижаются\n",
    "# С июля ставка и продажи начинает расти, наблюдается параллельный рост"
   ]
  },
  {
   "cell_type": "code",
   "execution_count": 25,
   "id": "ef277510-30f0-4411-a0f2-5f71b7924c68",
   "metadata": {},
   "outputs": [
    {
     "data": {
      "image/png": "[encoded data removed]",
      "text/plain": [
       "<Figure size 800x600 with 1 Axes>"
      ]
     },
     "metadata": {},
     "output_type": "display_data"
    }
   ],
   "source": [
    "# Далее, чтобы оценить зависимость между двумя числовыми переменными,\n",
    "# построим диаграмму рассеяния (scatter plot)\n",
    "\n",
    "plt.figure(figsize=(8, 6))\n",
    "sns.scatterplot(data=df, x='rate', y='sales')\n",
    "plt.title('Зависимость продаж от ключевой ставки')\n",
    "plt.xlabel('Ключевая ставка (%)')\n",
    "plt.ylabel('Объем продаж')\n",
    "plt.grid(True)\n",
    "plt.show()"
   ]
  },
  {
   "cell_type": "code",
   "execution_count": 26,
   "id": "b00d6811-6d80-4fb6-a115-2f651819ff44",
   "metadata": {},
   "outputs": [],
   "source": [
    "# Точки на графике расположены отдельно, явной линейной зависимости не видно.\n",
    "# Продажи колеблются как при низкой, так и при высокой ключевой ставке.\n",
    "# Ключевая ставка не оказывает выраженного прямого влияния на продажи."
   ]
  },
  {
   "cell_type": "code",
   "execution_count": 27,
   "id": "b08f6483-e9b7-4171-bd26-44764a729434",
   "metadata": {},
   "outputs": [
    {
     "name": "stdout",
     "output_type": "stream",
     "text": [
      "Коэффициент корреляции: 0.13\n"
     ]
    }
   ],
   "source": [
    "# Посчитаем коэффициент корреляции\n",
    "\n",
    "correlation = df['sales'].corr(df['rate']).round(2)\n",
    "print(\"Коэффициент корреляции:\", correlation)\n",
    "# Слабая корреляция"
   ]
  },
  {
   "cell_type": "code",
   "execution_count": 28,
   "id": "7af22b30-70b5-499a-9fe9-532870445355",
   "metadata": {},
   "outputs": [],
   "source": [
    "# Вывод по заданию:\n",
    "# Анализ зависимости между ключевой ставкой и объёмом продаж показал, что прямой линейной связи не наблюдается.\n",
    "# Коэффициент корреляции составляет 0.13, что указывает на очень слабую связь.\n",
    "# Ключевая ставка за 2024 год не является основным фактором который влияет на продажи."
   ]
  }
 ],
 "metadata": {
  "kernelspec": {
   "display_name": "Python 3 (ipykernel)",
   "language": "python",
   "name": "python3"
  },
  "language_info": {
   "codemirror_mode": {
    "name": "ipython",
    "version": 3
   },
   "file_extension": ".py",
   "mimetype": "text/x-python",
   "name": "python",
   "nbconvert_exporter": "python",
   "pygments_lexer": "ipython3",
   "version": "3.12.6"
  }
 },
 "nbformat": 4,
 "nbformat_minor": 5
}
